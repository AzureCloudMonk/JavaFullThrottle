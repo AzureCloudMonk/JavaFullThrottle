{
 "cells": [
  {
   "cell_type": "code",
   "execution_count": 1,
   "id": "0a0ee394-6142-4b40-9d9e-9ee85a095100",
   "metadata": {},
   "outputs": [
    {
     "name": "stdout",
     "output_type": "stream",
     "text": [
      "Welcome to Java Programming!\n"
     ]
    },
    {
     "data": {
      "text/plain": [
       "null"
      ]
     },
     "execution_count": 1,
     "metadata": {},
     "output_type": "execute_result"
    }
   ],
   "source": [
    "System.out.println(\"Welcome to Java Programming!\");"
   ]
  },
  {
   "cell_type": "code",
   "execution_count": 2,
   "id": "b88e693a-1fe1-4b2c-8b47-3eb9680b5d9c",
   "metadata": {},
   "outputs": [
    {
     "data": {
      "text/plain": [
       "null"
      ]
     },
     "execution_count": 2,
     "metadata": {},
     "output_type": "execute_result"
    }
   ],
   "source": [
    "import java.util.Scanner;"
   ]
  },
  {
   "cell_type": "code",
   "execution_count": 4,
   "id": "f6783d67-fcb7-421c-9746-95cc89de3f6c",
   "metadata": {},
   "outputs": [
    {
     "name": "stdout",
     "output_type": "stream",
     "text": [
      "Enter first integer: "
     ]
    },
    {
     "name": "stdin",
     "output_type": "stream",
     "text": [
      " 10\n"
     ]
    },
    {
     "name": "stdout",
     "output_type": "stream",
     "text": [
      "Enter second integer: "
     ]
    },
    {
     "name": "stdin",
     "output_type": "stream",
     "text": [
      " 20\n"
     ]
    },
    {
     "name": "stdout",
     "output_type": "stream",
     "text": [
      "Sum is 30\n"
     ]
    },
    {
     "data": {
      "text/plain": [
       "null"
      ]
     },
     "execution_count": 4,
     "metadata": {},
     "output_type": "execute_result"
    }
   ],
   "source": [
    "import java.util.Scanner;\n",
    "Scanner input = new Scanner(System.in);\n",
    "\n",
    "System.out.print(\"Enter first integer: \"); // prompt \n",
    "int number1 = input.nextInt(); // read first number from user\n",
    "\n",
    "System.out.print(\"Enter second integer: \"); // prompt \n",
    "int number2 = input.nextInt(); // read second number from user\n",
    "\n",
    "int sum = number1 + number2; // add numbers, then store total in sum\n",
    "\n",
    "System.out.printf(\"Sum is %d%n\", sum); // display sum\n"
   ]
  },
  {
   "cell_type": "code",
   "execution_count": 5,
   "id": "a06d154c-9e15-4237-8a8b-4759bfd74967",
   "metadata": {},
   "outputs": [
    {
     "data": {
      "text/plain": [
       "null"
      ]
     },
     "execution_count": 5,
     "metadata": {},
     "output_type": "execute_result"
    }
   ],
   "source": [
    "import java.util.ArrayList;"
   ]
  },
  {
   "cell_type": "code",
   "execution_count": null,
   "id": "b14a9e79-a2b8-4c8b-819f-6679c4c013e8",
   "metadata": {},
   "outputs": [],
   "source": [
    "ArrayList l = new ArrayList<st"
   ]
  }
 ],
 "metadata": {
  "kernelspec": {
   "display_name": "Java",
   "language": "java",
   "name": "java"
  },
  "language_info": {
   "codemirror_mode": "text/x-java",
   "file_extension": ".java",
   "mimetype": "",
   "name": "Java",
   "nbconverter_exporter": "",
   "version": "1.8.0_121"
  }
 },
 "nbformat": 4,
 "nbformat_minor": 5
}
